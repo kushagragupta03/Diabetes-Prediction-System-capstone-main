{
 "cells": [
  {
   "cell_type": "code",
   "execution_count": 8,
   "id": "67afa651",
   "metadata": {},
   "outputs": [],
   "source": [
    "#import libraries\n",
    "import pandas as pd\n",
    "import numpy as np\n",
    "import matplotlib.pyplot as plt\n",
    "import seaborn as sns"
   ]
  },
  {
   "cell_type": "code",
   "execution_count": 9,
   "id": "fd85376a",
   "metadata": {},
   "outputs": [],
   "source": [
    "#splitting data into training and testing sets\n",
    "from sklearn.model_selection import train_test_split\n",
    "\n",
    "#predicting the probability of a binary outcome using the logistic function\n",
    "from sklearn.linear_model import LogisticRegression\n",
    "\n",
    "#c measuring the proportion of correctly classified instances in a classification model\n",
    "from sklearn.metrics import accuracy_score\n",
    "\n",
    "from sklearn.preprocessing import StandardScaler"
   ]
  },
  {
   "cell_type": "code",
   "execution_count": null,
   "id": "bb1de4cf",
   "metadata": {},
   "outputs": [],
   "source": [
    "#loarding data set\n",
    "data = pd.read_csv(\"diabetes.csv\")"
   ]
  },
  {
   "cell_type": "code",
   "execution_count": null,
   "id": "8d430b37",
   "metadata": {},
   "outputs": [],
   "source": [
    "data"
   ]
  },
  {
   "cell_type": "code",
   "execution_count": null,
   "id": "6842352b",
   "metadata": {},
   "outputs": [],
   "source": [
    "#checking for missing values\n",
    "sns.heatmap(data.isnull())"
   ]
  },
  {
   "cell_type": "code",
   "execution_count": null,
   "id": "aae1227f",
   "metadata": {},
   "outputs": [],
   "source": [
    "#co relation matrix\n",
    "correlation = data.corr()\n",
    "print(correlation)"
   ]
  },
  {
   "cell_type": "code",
   "execution_count": 71,
   "id": "124b1666",
   "metadata": {},
   "outputs": [],
   "source": [
    "#train test slpit\n",
    "X = data.drop(\"Outcome\",axis = 1)\n",
    "Y = data['Outcome']\n",
    "X_train,X_test,Y_train,Y_test = train_test_split(X,Y,test_size=0.2)"
   ]
  },
  {
   "cell_type": "code",
   "execution_count": null,
   "id": "60ed7919",
   "metadata": {},
   "outputs": [],
   "source": [
    "model=LogisticRegression(max_iter=1000)\n",
    "model.fit(X_train,Y_train)"
   ]
  },
  {
   "cell_type": "code",
   "execution_count": 73,
   "id": "0a997d87",
   "metadata": {},
   "outputs": [],
   "source": [
    "prediction = model.predict(X_test)"
   ]
  },
  {
   "cell_type": "code",
   "execution_count": null,
   "id": "0d9ddcb8",
   "metadata": {},
   "outputs": [],
   "source": [
    "print(prediction)"
   ]
  },
  {
   "cell_type": "code",
   "execution_count": 75,
   "id": "1ee4df6c",
   "metadata": {},
   "outputs": [],
   "source": [
    "accuracy = accuracy_score(prediction,Y_test)"
   ]
  },
  {
   "cell_type": "code",
   "execution_count": null,
   "id": "bf0ee1b9",
   "metadata": {},
   "outputs": [],
   "source": [
    "print(accuracy)"
   ]
  },
  {
   "cell_type": "code",
   "execution_count": null,
   "id": "5add1ff8",
   "metadata": {},
   "outputs": [],
   "source": []
  },
  {
   "cell_type": "code",
   "execution_count": null,
   "id": "880a1d12",
   "metadata": {},
   "outputs": [],
   "source": []
  }
 ],
 "metadata": {
  "kernelspec": {
   "display_name": "Python 3",
   "language": "python",
   "name": "python3"
  },
  "language_info": {
   "codemirror_mode": {
    "name": "ipython",
    "version": 3
   },
   "file_extension": ".py",
   "mimetype": "text/x-python",
   "name": "python",
   "nbconvert_exporter": "python",
   "pygments_lexer": "ipython3",
   "version": "3.12.2"
  }
 },
 "nbformat": 4,
 "nbformat_minor": 5
}
